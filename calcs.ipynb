{
 "cells": [
  {
   "cell_type": "code",
   "execution_count": 1,
   "metadata": {},
   "outputs": [],
   "source": [
    "import sys\n",
    "import numpy as np\n",
    "import astropy.constants as const\n",
    "import astropy.units as u"
   ]
  },
  {
   "cell_type": "code",
   "execution_count": 2,
   "metadata": {},
   "outputs": [
    {
     "data": {
      "text/plain": [
       "(<Quantity [19.98616387,  9.99308193] cm>,\n",
       " <Quantity [ 988.32743011, 3953.30972044]>)"
      ]
     },
     "execution_count": 2,
     "metadata": {},
     "output_type": "execute_result"
    }
   ],
   "source": [
    "freq=[1.5*10**9,3*10**9]*u.Hz\n",
    "lambd=(const.c/freq).to(u.cm)\n",
    "ksc = 1\n",
    "DSC = 100*u.cm\n",
    "GSC = 4*(np.pi**2)*(DSC**2)*ksc/lambd**2\n",
    "lambd,GSC"
   ]
  },
  {
   "cell_type": "code",
   "execution_count": 3,
   "metadata": {},
   "outputs": [
    {
     "name": "stdout",
     "output_type": "stream",
     "text": [
      "Distance: 550.0 AU\n",
      "EIRP in L-band: 6786.562029285125 W\n",
      "EIRP in S-band: 8143.874435142152 W\n",
      "Directed Transmitter in L-band: 6.8667142310693565 W\n",
      "Directed Transmitter in S-band: 2.0600142693208072 W\n",
      "Distance: 1000.0 AU\n",
      "EIRP in L-band: 22434.915799289673 W\n",
      "EIRP in S-band: 26921.898959147606 W\n",
      "Directed Transmitter in L-band: 22.699881755601183 W\n",
      "Directed Transmitter in S-band: 6.809964526680354 W\n"
     ]
    }
   ],
   "source": [
    "# SGL\n",
    "delta_nu=2.7939677238464355*u.Hz\n",
    "SNR=10\n",
    "obs_time=300*u.s\n",
    "\n",
    "# Hippke\n",
    "G = 10**5\n",
    "distance = [550,1000]*u.AU\n",
    "# distance = 1000*u.pc\n",
    "# Enriquez 2017\n",
    "\n",
    "Tsys = 20*u.K\n",
    "A = np.pi*(50*u.m)**2\n",
    "eta = 0.72\n",
    "A_eff = eta * A\n",
    "SEFD = 2 * const.k_B * Tsys / A_eff\n",
    "SEFD_L = 10*u.Jy\n",
    "SEFD_S = 12*u.Jy\n",
    "\n",
    "# delta_nu = 3*u.Hz\n",
    "n_pol=2\n",
    "Flux_L = SNR * SEFD_L * np.sqrt(delta_nu/n_pol/obs_time)\n",
    "\n",
    "# Sheikh ETZ\n",
    "# SEFD = Tsys/G\n",
    "delta_nu = 2.7*u.Hz\n",
    "Flux_density_L = SNR * SEFD_L * np.sqrt(delta_nu/obs_time/np.sqrt(2))\n",
    "Flux_density_S = SNR * SEFD_S * np.sqrt(delta_nu/obs_time/np.sqrt(2))\n",
    "for d in distance:\n",
    "    EIRP_L = (4*np.pi*d**2 * Flux_density_L).to(u.W)\n",
    "    EIRP_S = (4*np.pi*d**2 * Flux_density_S).to(u.W)\n",
    "    print(f'Distance: {d}')\n",
    "    print(f'EIRP in L-band: {EIRP_L}\\nEIRP in S-band: {EIRP_S}')\n",
    "    print(f'Directed Transmitter in L-band: {EIRP_L/GSC[0]}\\nDirected Transmitter in S-band: {EIRP_S/GSC[1]}')"
   ]
  },
  {
   "cell_type": "code",
   "execution_count": 4,
   "metadata": {},
   "outputs": [
    {
     "data": {
      "text/latex": [
       "$[22.699882,~5.6749704] \\; \\mathrm{W}$"
      ],
      "text/plain": [
       "<Quantity [22.69988176,  5.67497044] W>"
      ]
     },
     "execution_count": 4,
     "metadata": {},
     "output_type": "execute_result"
    }
   ],
   "source": [
    "EIRP_L/GSC"
   ]
  },
  {
   "cell_type": "code",
   "execution_count": 5,
   "metadata": {},
   "outputs": [],
   "source": [
    "import os\n",
    "import glob\n",
    "from blimpy import Waterfall\n",
    "os.chdir('/gpfs/group/jtw13/default/gbt_2020/2021/L_band/splice_no_overlap_ordered')\n",
    "h5s = sorted(glob.glob('*.h5'))"
   ]
  },
  {
   "cell_type": "code",
   "execution_count": 6,
   "metadata": {},
   "outputs": [],
   "source": [
    "SNR = 15.149476\n",
    "f_mid=1191.797502\n",
    "# f_mid=2465.993508\n",
    "# f_mid=4124.999750\n",
    "f_delta = 0.000207\n",
    "# f_delta = 0.000010\n",
    "f_start = f_mid - f_delta\n",
    "f_stop  = f_mid + f_delta\n",
    "wf=Waterfall(h5s[0],f_start=f_start,f_stop=f_stop)\n",
    "plot_f,plot_data=wf.grab_data(f_start=f_start,f_stop=f_stop)"
   ]
  },
  {
   "cell_type": "code",
   "execution_count": 7,
   "metadata": {},
   "outputs": [
    {
     "data": {
      "text/plain": [
       "2.7785234905477775e-06"
      ]
     },
     "execution_count": 7,
     "metadata": {},
     "output_type": "execute_result"
    }
   ],
   "source": [
    "np.shape(plot_data)\n",
    "(f_stop-f_start)/149"
   ]
  },
  {
   "cell_type": "code",
   "execution_count": 8,
   "metadata": {},
   "outputs": [
    {
     "data": {
      "text/plain": [
       "(997287.39125, 1040451.875, 1027048.7096354166)"
      ]
     },
     "execution_count": 8,
     "metadata": {},
     "output_type": "execute_result"
    }
   ],
   "source": [
    "sum(plot_data[0][:50])/50,sum(plot_data[0][50:100])/50,sum(plot_data[0][100:148])/48"
   ]
  },
  {
   "cell_type": "code",
   "execution_count": 9,
   "metadata": {},
   "outputs": [
    {
     "data": {
      "image/png": "[encoded data removed]",
      "text/plain": [
       "<Figure size 432x288 with 1 Axes>"
      ]
     },
     "metadata": {
      "needs_background": "light"
     },
     "output_type": "display_data"
    }
   ],
   "source": [
    "import matplotlib.pyplot as plt\n",
    "%matplotlib inline\n",
    "for i in range(16):\n",
    "    # print(plot_data[i][72:78])\n",
    "    y=16-i\n",
    "    x=np.argmax(plot_data[i])\n",
    "    plt.scatter(x,y)\n",
    "    # plt.xlim(0,148)\n",
    "plt.show()"
   ]
  },
  {
   "cell_type": "code",
   "execution_count": 10,
   "metadata": {},
   "outputs": [
    {
     "data": {
      "text/plain": [
       "2.7905405405405403"
      ]
     },
     "execution_count": 10,
     "metadata": {},
     "output_type": "execute_result"
    }
   ],
   "source": [
    "(207+206)/148"
   ]
  },
  {
   "cell_type": "code",
   "execution_count": 11,
   "metadata": {},
   "outputs": [
    {
     "name": "stdout",
     "output_type": "stream",
     "text": [
      "signal: 2710959.578125\n",
      "noise: 991830.87890625\n",
      "SNR: 2.733288139924151\n"
     ]
    }
   ],
   "source": [
    "signal=0\n",
    "noise=0\n",
    "for i in range(16):\n",
    "    noise+=plot_data[i][np.argmax(plot_data[i])-25]\n",
    "    signal+=plot_data[i].max()\n",
    "signal/=16\n",
    "noise/=16\n",
    "print(f'signal: {signal}')\n",
    "print(f'noise: {noise}')\n",
    "print(f'SNR: {signal/noise}')"
   ]
  },
  {
   "cell_type": "code",
   "execution_count": 12,
   "metadata": {},
   "outputs": [
    {
     "name": "stdout",
     "output_type": "stream",
     "text": [
      "Reported SNR: 15.149476\n"
     ]
    },
    {
     "data": {
      "text/plain": [
       "15.818318549341887"
      ]
     },
     "execution_count": 12,
     "metadata": {},
     "output_type": "execute_result"
    }
   ],
   "source": [
    "print(f'Reported SNR: {SNR}')\n",
    "np.log((signal/np.sqrt(noise))**2)"
   ]
  },
  {
   "cell_type": "code",
   "execution_count": 13,
   "metadata": {},
   "outputs": [
    {
     "data": {
      "text/plain": [
       "4266"
      ]
     },
     "execution_count": 13,
     "metadata": {},
     "output_type": "execute_result"
    }
   ],
   "source": [
    "import gc\n",
    "del wf\n",
    "gc.collect()"
   ]
  },
  {
   "cell_type": "code",
   "execution_count": 14,
   "metadata": {},
   "outputs": [],
   "source": [
    "SNR = 385.369446\n",
    "f_mid=2250.900443\n",
    "f_delta = 0.000207\n",
    "f_start = f_mid - f_delta\n",
    "f_stop  = f_mid + f_delta\n",
    "wf=Waterfall(h5s[0],f_start=f_start,f_stop=f_stop)\n",
    "plot_f,plot_data=wf.grab_data(f_start=f_start,f_stop=f_stop)"
   ]
  },
  {
   "cell_type": "code",
   "execution_count": 15,
   "metadata": {},
   "outputs": [
    {
     "data": {
      "image/png": "[encoded data removed]",
      "text/plain": [
       "<Figure size 1152x432 with 1 Axes>"
      ]
     },
     "metadata": {
      "needs_background": "light"
     },
     "output_type": "display_data"
    }
   ],
   "source": [
    "import matplotlib.pyplot as plt\n",
    "%matplotlib inline\n",
    "fig,ax = plt.subplots(figsize=(16,6))\n",
    "for i in range(16):\n",
    "    # print(plot_data[i][72:78])\n",
    "    y=16-i\n",
    "    x=np.argmax(plot_data[i])\n",
    "    plt.scatter(x,y)\n",
    "    plt.xlim(0,148)\n",
    "plt.show()"
   ]
  },
  {
   "cell_type": "code",
   "execution_count": 16,
   "metadata": {},
   "outputs": [
    {
     "name": "stdout",
     "output_type": "stream",
     "text": [
      "signal: 464626.5234375\n",
      "noise: 7847.4847412109375\n",
      "SNR: 59.20706299657028\n",
      "Reported SNR: 385.369446\n"
     ]
    },
    {
     "data": {
      "text/plain": [
       "17.130030028595993"
      ]
     },
     "execution_count": 16,
     "metadata": {},
     "output_type": "execute_result"
    }
   ],
   "source": [
    "signal=0\n",
    "noise=0\n",
    "for i in range(16):\n",
    "    noise+=plot_data[i][np.argmax(plot_data[i])+50]\n",
    "    signal+=plot_data[i].max()\n",
    "signal/=16\n",
    "noise/=16\n",
    "print(f'signal: {signal}')\n",
    "print(f'noise: {noise}')\n",
    "print(f'SNR: {signal/noise}')\n",
    "\n",
    "print(f'Reported SNR: {SNR}')\n",
    "np.log((signal/np.sqrt(noise))**2)"
   ]
  },
  {
   "cell_type": "code",
   "execution_count": 17,
   "metadata": {},
   "outputs": [
    {
     "data": {
      "text/latex": [
       "$9.7660939 \\; \\mathrm{Jy}$"
      ],
      "text/plain": [
       "<Quantity 9.76609391 Jy>"
      ]
     },
     "execution_count": 17,
     "metadata": {},
     "output_type": "execute_result"
    }
   ],
   "source": [
    "Tsys = 20*u.K\n",
    "eta=0.72\n",
    "A=np.pi*(50*u.m)**2\n",
    "A_eff = eta*A\n",
    "SEFD = 2* const.k_B*Tsys/A_eff\n",
    "SEFD.to(u.Jy)"
   ]
  },
  {
   "cell_type": "code",
   "execution_count": 18,
   "metadata": {},
   "outputs": [
    {
     "data": {
      "text/plain": [
       "292.0"
      ]
     },
     "execution_count": 18,
     "metadata": {},
     "output_type": "execute_result"
    }
   ],
   "source": [
    "16*18.25"
   ]
  },
  {
   "cell_type": "code",
   "execution_count": 23,
   "metadata": {},
   "outputs": [
    {
     "data": {
      "text/plain": [
       "((16, 148),\n",
       " (148,),\n",
       " array([2250.90064947, 2250.90064667, 2250.90064388, 2250.90064108,\n",
       "        2250.90063829, 2250.9006355 , 2250.9006327 , 2250.90062991,\n",
       "        2250.90062711, 2250.90062432, 2250.90062153, 2250.90061873,\n",
       "        2250.90061594, 2250.90061314, 2250.90061035, 2250.90060756,\n",
       "        2250.90060476, 2250.90060197, 2250.90059917, 2250.90059638,\n",
       "        2250.90059359, 2250.90059079, 2250.900588  , 2250.9005852 ,\n",
       "        2250.90058241, 2250.90057962, 2250.90057682, 2250.90057403,\n",
       "        2250.90057123, 2250.90056844, 2250.90056565, 2250.90056285,\n",
       "        2250.90056006, 2250.90055726, 2250.90055447, 2250.90055168,\n",
       "        2250.90054888, 2250.90054609, 2250.90054329, 2250.9005405 ,\n",
       "        2250.90053771, 2250.90053491, 2250.90053212, 2250.90052933,\n",
       "        2250.90052653, 2250.90052374, 2250.90052094, 2250.90051815,\n",
       "        2250.90051536, 2250.90051256, 2250.90050977, 2250.90050697,\n",
       "        2250.90050418, 2250.90050139, 2250.90049859, 2250.9004958 ,\n",
       "        2250.900493  , 2250.90049021, 2250.90048742, 2250.90048462,\n",
       "        2250.90048183, 2250.90047903, 2250.90047624, 2250.90047345,\n",
       "        2250.90047065, 2250.90046786, 2250.90046506, 2250.90046227,\n",
       "        2250.90045948, 2250.90045668, 2250.90045389, 2250.90045109,\n",
       "        2250.9004483 , 2250.90044551, 2250.90044271, 2250.90043992,\n",
       "        2250.90043712, 2250.90043433, 2250.90043154, 2250.90042874,\n",
       "        2250.90042595, 2250.90042315, 2250.90042036, 2250.90041757,\n",
       "        2250.90041477, 2250.90041198, 2250.90040918, 2250.90040639,\n",
       "        2250.9004036 , 2250.9004008 , 2250.90039801, 2250.90039521,\n",
       "        2250.90039242, 2250.90038963, 2250.90038683, 2250.90038404,\n",
       "        2250.90038124, 2250.90037845, 2250.90037566, 2250.90037286,\n",
       "        2250.90037007, 2250.90036727, 2250.90036448, 2250.90036169,\n",
       "        2250.90035889, 2250.9003561 , 2250.90035331, 2250.90035051,\n",
       "        2250.90034772, 2250.90034492, 2250.90034213, 2250.90033934,\n",
       "        2250.90033654, 2250.90033375, 2250.90033095, 2250.90032816,\n",
       "        2250.90032537, 2250.90032257, 2250.90031978, 2250.90031698,\n",
       "        2250.90031419, 2250.9003114 , 2250.9003086 , 2250.90030581,\n",
       "        2250.90030301, 2250.90030022, 2250.90029743, 2250.90029463,\n",
       "        2250.90029184, 2250.90028904, 2250.90028625, 2250.90028346,\n",
       "        2250.90028066, 2250.90027787, 2250.90027507, 2250.90027228,\n",
       "        2250.90026949, 2250.90026669, 2250.9002639 , 2250.9002611 ,\n",
       "        2250.90025831, 2250.90025552, 2250.90025272, 2250.90024993,\n",
       "        2250.90024713, 2250.90024434, 2250.90024155, 2250.90023875]),\n",
       " array([[ 8474.238 ,  7578.4297,  9273.938 , ...,  8595.734 ,  6711.072 ,\n",
       "          7837.799 ],\n",
       "        [ 8456.626 ,  8353.184 ,  8262.056 , ...,  8778.819 ,  5936.6196,\n",
       "          6253.4014],\n",
       "        [ 8989.631 ,  9565.859 ,  8570.991 , ...,  9064.585 ,  7256.67  ,\n",
       "          8358.214 ],\n",
       "        ...,\n",
       "        [ 7454.9155,  8231.367 ,  9156.558 , ...,  9311.063 ,  7439.5386,\n",
       "          8048.2114],\n",
       "        [ 9020.299 ,  7638.85  ,  8461.09  , ...,  8366.371 ,  6913.251 ,\n",
       "         10348.3   ],\n",
       "        [ 7300.465 ,  8244.143 ,  8694.691 , ...,  7188.8965,  6879.6045,\n",
       "          9089.428 ]], dtype=float32))"
      ]
     },
     "execution_count": 23,
     "metadata": {},
     "output_type": "execute_result"
    }
   ],
   "source": [
    "np.shape(plot_data), np.shape(plot_f), plot_f, plot_data"
   ]
  },
  {
   "cell_type": "code",
   "execution_count": 28,
   "metadata": {},
   "outputs": [
    {
     "data": {
      "text/plain": [
       "(2.7785234905477775e-06, 5.627785234899329e-07)"
      ]
     },
     "execution_count": 28,
     "metadata": {},
     "output_type": "execute_result"
    }
   ],
   "source": [
    "(f_stop-f_start)/149,(0.041927e-3+0.041927e-3)/149"
   ]
  }
 ],
 "metadata": {
  "kernelspec": {
   "display_name": "Python 3.9.7 64-bit ('tSETI')",
   "language": "python",
   "name": "python3"
  },
  "language_info": {
   "codemirror_mode": {
    "name": "ipython",
    "version": 3
   },
   "file_extension": ".py",
   "mimetype": "text/x-python",
   "name": "python",
   "nbconvert_exporter": "python",
   "pygments_lexer": "ipython3",
   "version": "3.9.7"
  },
  "orig_nbformat": 4,
  "vscode": {
   "interpreter": {
    "hash": "ad6dfd73cffdfa0454bf1b85de0cabc9b1b6556a7b8fc1839c4601581f59abc7"
   }
  }
 },
 "nbformat": 4,
 "nbformat_minor": 2
}
